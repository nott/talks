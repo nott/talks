{
 "cells": [
  {
   "cell_type": "markdown",
   "metadata": {
    "slideshow": {
     "slide_type": "slide"
    }
   },
   "source": [
    "<h1><center>90</center></h1>"
   ]
  },
  {
   "cell_type": "markdown",
   "metadata": {
    "slideshow": {
     "slide_type": "slide"
    }
   },
   "source": [
    "<h1><center>Про тестирование и<br>здравый смысл</center></h1>\n",
    "\n",
    "<h1><center>Стас Рудаков</center><br><center><img src=\"datarobot.png\" alt=\"DataRobot\"></center></h1>\n",
    "\n",
    "<h2><center>Minsk Python Meetup<br>Июль 2016</center></h2>"
   ]
  },
  {
   "cell_type": "markdown",
   "metadata": {
    "slideshow": {
     "slide_type": "subslide"
    }
   },
   "source": [
    "* 2013 - июнь: _Дескрипторы в теории и на практике_\n",
    "* 2013 - август: _По-новому стреляем себе в ногу при работе с сетью_\n",
    "* 2014 - январь: _Очередной скучный доклад про логгирование_\n",
    "* 2014 - ноябрь: _Practical Python Packaging_"
   ]
  },
  {
   "cell_type": "markdown",
   "metadata": {
    "slideshow": {
     "slide_type": "slide"
    }
   },
   "source": [
    "# Зачем Минску Python митап?"
   ]
  },
  {
   "cell_type": "markdown",
   "metadata": {
    "slideshow": {
     "slide_type": "fragment"
    }
   },
   "source": [
    "* для формирования сообщества\n",
    "* для изучения нового и обмена опытом\n",
    "* дает возможность научиться публично выступать\n",
    "* дает возможность прославиться\n",
    "* networking\n",
    "* для поиска работы\n",
    "* для создания образа классного места для Python разработчиков"
   ]
  },
  {
   "cell_type": "markdown",
   "metadata": {
    "slideshow": {
     "slide_type": "slide"
    }
   },
   "source": [
    "![mole](mole.jpg)"
   ]
  },
  {
   "cell_type": "markdown",
   "metadata": {
    "slideshow": {
     "slide_type": "slide"
    }
   },
   "source": [
    "# Зачем я пишу тесты"
   ]
  },
  {
   "cell_type": "markdown",
   "metadata": {
    "slideshow": {
     "slide_type": "fragment"
    }
   },
   "source": [
    "* так заведено среди программистов"
   ]
  },
  {
   "cell_type": "markdown",
   "metadata": {
    "slideshow": {
     "slide_type": "fragment"
    }
   },
   "source": [
    "* про это спрашивают на собеседованиях"
   ]
  },
  {
   "cell_type": "markdown",
   "metadata": {
    "slideshow": {
     "slide_type": "slide"
    }
   },
   "source": [
    "# Квадрант тестирования (Brian Marick)\n",
    "\n",
    "![quadrant](quadrant.png)\n",
    "\n",
    "[Building Microservices](http://shop.oreilly.com/product/0636920033158.do), Sam Newman"
   ]
  },
  {
   "cell_type": "markdown",
   "metadata": {
    "slideshow": {
     "slide_type": "subslide"
    }
   },
   "source": [
    "# Пирамида тестирования (Mike Cohn)\n",
    "\n",
    "![pyramid](pyramid.png)\n",
    "\n",
    "* https://habrahabr.ru/post/266309/\n",
    "* http://www.agilebuddha.com/agile/traditional-testing-will-be-dead-soon/"
   ]
  },
  {
   "cell_type": "markdown",
   "metadata": {
    "slideshow": {
     "slide_type": "subslide"
    }
   },
   "source": [
    "Риски:\n",
    "\n",
    "* сложно разработать стратегию тестирования правильно\n",
    " - касается как технических решений\n",
    " - так и разделения ответственности/обязанностей/полномочий\n",
    "* о стратегии тестирования задумываются, когда проект уже разросся\n",
    "* бизнес видит лишь верхушку пирамиды\n",
    "* сложно внедрить в уже написанный код"
   ]
  },
  {
   "cell_type": "markdown",
   "metadata": {
    "slideshow": {
     "slide_type": "slide"
    }
   },
   "source": [
    "# На практике... пирамида еще раз\n",
    "\n",
    "![pyramid](pyramid.png)\n",
    "\n",
    "* web-сайт\n",
    "* REST API\n",
    "* Fabric"
   ]
  },
  {
   "cell_type": "markdown",
   "metadata": {
    "slideshow": {
     "slide_type": "subslide"
    }
   },
   "source": [
    "## Или лучше так\n",
    "\n",
    "\n",
    "![pyramid](pyramid2.png)\n",
    "\n",
    "[Building Microservices](http://shop.oreilly.com/product/0636920033158.do), Sam Newman"
   ]
  },
  {
   "cell_type": "markdown",
   "metadata": {
    "slideshow": {
     "slide_type": "slide"
    }
   },
   "source": [
    "# Но в конце все равно будет так\n",
    "\n",
    "![cupcake](cupcake.png)\n",
    "\n",
    "[Introducing the Software Testing Cupcake (Anti-Pattern)](https://www.thoughtworks.com/insights/blog/introducing-software-testing-cupcake-anti-pattern)"
   ]
  },
  {
   "cell_type": "markdown",
   "metadata": {
    "slideshow": {
     "slide_type": "slide"
    }
   },
   "source": [
    "# От теории к практике"
   ]
  },
  {
   "cell_type": "code",
   "execution_count": null,
   "metadata": {
    "collapsed": true,
    "slideshow": {
     "slide_type": "fragment"
    }
   },
   "outputs": [],
   "source": [
    "class TestAPI(unittest.TestCase):\n",
    "    def test_search_users(self):\n",
    "        client = app.test_client()\n",
    "        self.assertEqual(client.get('/users/search/token').status_code, 403)\n",
    "        client.login('admin@example.com', '111111')\n",
    "        response = client.get('/users/search/user')\n",
    "        self.assertEqual(response.status_code, 200)\n",
    "        data = json.loads(response.data)\n",
    "        self.assertItemsEqual(\n",
    "            data['users'],\n",
    "            [\n",
    "                {'id': 17, 'username': 'user1@example.com'},\n",
    "                {'id': 35, 'username': 'user2@example.com'},\n",
    "                {'id': 68, 'username': 'user3@example.com'},\n",
    "            ]\n",
    "        )"
   ]
  },
  {
   "cell_type": "markdown",
   "metadata": {
    "slideshow": {
     "slide_type": "subslide"
    }
   },
   "source": [
    "# Что не так с этим тестом?\n",
    "\n",
    "1. тестирует не одну вещь\n",
    "2. непонятно, что вообще тестируется\n",
    "3. код плохо отформатирован\n",
    "4. последний список содержит `id`\n",
    "5. непонятно, откуда берутся `admin@example.com`, `user*@example.com`\n",
    "6. unittest-style assertAnything\n",
    "\n",
    "# А что с ним так?\n",
    "\n",
    "* ну... он вообще есть и тестирует реальный код"
   ]
  },
  {
   "cell_type": "code",
   "execution_count": null,
   "metadata": {
    "collapsed": true,
    "slideshow": {
     "slide_type": "slide"
    }
   },
   "outputs": [],
   "source": [
    "# Проблема 1: Тестирует не одну вещь\n",
    "\n",
    "-class TestAPI(unittest.TestCase):\n",
    "-    def test_search_users(self):\n",
    "+class TestSearchUsers(unittest.TestCase):\n",
    "+    def test_permissions(self):\n",
    "         client = app.test_client()\n",
    "         self.assertEqual(client.get('/users/search/token').status_code, 403)\n",
    "+\n",
    "+    def test_response200(self):\n",
    "+        client = app.test_client()\n",
    "         client.login('admin@example.com', '111111')\n",
    "         response = client.get('/users/search/user')\n",
    "         self.assertEqual(response.status_code, 200)\n",
    "         data = json.loads(response.data)\n",
    "         self.assertItemsEqual(\n",
    "             data['users'],\n",
    "             [\n",
    "                 {'id': 17, 'username': 'user1@example.com'},\n",
    "                 {'id': 35, 'username': 'user2@example.com'},\n",
    "                 {'id': 68, 'username': 'user3@example.com'},\n",
    "             ]\n",
    "         )"
   ]
  },
  {
   "cell_type": "code",
   "execution_count": null,
   "metadata": {
    "collapsed": true,
    "slideshow": {
     "slide_type": "slide"
    }
   },
   "outputs": [],
   "source": [
    "# Проблема 2: непонятно, что вообще тестируется\n",
    "# Проблема 3: код плохо отформатирован\n",
    "\n",
    " class TestSearchUsers(unittest.TestCase):\n",
    "     def test_permissions(self):\n",
    "         client = app.test_client()\n",
    "-        self.assertEqual(client.get('/users/search/token').status_code, 403)\n",
    "+\n",
    "+        # when a user without admin permissions searches for users\n",
    "+        response = client.get('/users/search/token')\n",
    "+\n",
    "+        # then response code should be 403 (forbidden)\n",
    "+        self.assertEqual(response.status_code, 403)\n",
    " \n",
    "     def test_response200(self):\n",
    "         client = app.test_client()\n",
    "         client.login('admin@example.com', '111111')\n",
    "+\n",
    "+        # when admin searches for users matching `user`\n",
    "         response = client.get('/users/search/user')\n",
    "+\n",
    "+        # then response should have code 200 and contain 3 users\n",
    "         self.assertEqual(response.status_code, 200)\n",
    "-        data = json.loads(response.data)\n",
    "         self.assertItemsEqual(\n",
    "             data['users'],\n",
    "             [\n",
    "                 {'id': 17, 'username': 'user1@example.com'},\n",
    "                 {'id': 35, 'username': 'user2@example.com'},\n",
    "                 {'id': 68, 'username': 'user3@example.com'},\n",
    "             ]\n",
    "         )\n"
   ]
  },
  {
   "cell_type": "markdown",
   "metadata": {
    "slideshow": {
     "slide_type": "subslide"
    }
   },
   "source": [
    "## Given-When-Then: BDD\n",
    "\n",
    "<pre>\n",
    "<b>Story</b>: Returns go to stock\n",
    "\n",
    "<b>In order to</b> keep track of stock\n",
    "<b>As a</b> store owner\n",
    "<b>I want to</b> add items back to stock when they're returned.\n",
    "\n",
    "<b>Scenario 1:</b> Refunded items should be returned to stock\n",
    "<b>Given</b> that a customer previously bought a black sweater from me\n",
    "<b>And</b> I have three black sweaters in stock.\n",
    "<b>When</b> he returns the black sweater for a refund\n",
    "<b>Then</b> I should have four black sweaters in stock.\n",
    "\n",
    "<b>Scenario 2:</b> Replaced items should be returned to stock\n",
    "<b>Given</b> that a customer previously bought a blue garment from me\n",
    "<b>And</b> I have two blue garments in stock\n",
    "<b>And</b> three black garments in stock.\n",
    "<b>When</b> he returns the blue garment for a replacement in black\n",
    "<b>Then</b> I should have three blue garments in stock\n",
    "<b>And</b> two black garments in stock.\n",
    "</pre>"
   ]
  },
  {
   "cell_type": "code",
   "execution_count": null,
   "metadata": {
    "collapsed": true,
    "slideshow": {
     "slide_type": "subslide"
    }
   },
   "outputs": [],
   "source": [
    "class TestSearchUsers(unittest.TestCase):\n",
    "    def test_non_admin(self):\n",
    "        # given a user with permission can_search but w/o permission is_admin\n",
    "        client = app.test_client()\n",
    "        with mock.patch('User') as user_model_mock:\n",
    "            user_model_mock.get_permissions.return_value = ['can_search']\n",
    "\n",
    "            # when search users request is performed\n",
    "            response = client.get('/users/search/token')\n",
    "\n",
    "        # then response code should be 403 (forbidden)\n",
    "        self.assertEqual(response.status_code, 403)"
   ]
  },
  {
   "cell_type": "code",
   "execution_count": null,
   "metadata": {
    "collapsed": true,
    "slideshow": {
     "slide_type": "slide"
    }
   },
   "outputs": [],
   "source": [
    "# Проблема 4: последний список содержит `id`\n",
    "\n",
    " class TestSearchUsers(unittest.TestCase):\n",
    "     def test_permissions(self):\n",
    "         client = app.test_client()\n",
    " \n",
    "         # when a user without admin permissions searches for users\n",
    "         response = client.get('/users/search/token')\n",
    " \n",
    "         # then response code should be 403 (forbidden)\n",
    "         self.assertEqual(response.status_code, 403)\n",
    " \n",
    "     def test_response200(self):\n",
    "         client = app.test_client()\n",
    "         client.login('admin@example.com', '111111')\n",
    " \n",
    "         # when admin searches for users matching `user`\n",
    "         response = client.get('/users/search/user')\n",
    " \n",
    "         # then response should have code 200 and contain 3 users\n",
    "         self.assertEqual(response.status_code, 200)\n",
    "-        self.assertItemsEqual(\n",
    "-            data['users'],\n",
    "-            [\n",
    "-                {'id': 17, 'username': 'user1@example.com'},\n",
    "-                {'id': 35, 'username': 'user2@example.com'},\n",
    "-                {'id': 68, 'username': 'user3@example.com'},\n",
    "-            ]\n",
    "+        self.assertEqual(\n",
    "+            len(json.loads(response.data)['users']),\n",
    "+            3\n",
    "         )"
   ]
  },
  {
   "cell_type": "code",
   "execution_count": null,
   "metadata": {
    "collapsed": true,
    "slideshow": {
     "slide_type": "slide"
    }
   },
   "outputs": [],
   "source": [
    "# Проблема 5: непонятно, откуда берутся `admin@example.com`, `user*@example.com`\n",
    "# Проблема 6:  unittest-style assertAnything\n",
    "\n",
    "\n",
    "-class TestSearchUsers(unittest.TestCase):\n",
    "-    def test_permissions(self):\n",
    "-        client = app.test_client()\n",
    "+class TestSearchUser(object):\n",
    "+    def _get(self, client, keyword):\n",
    "+        url = '/users/search/%s' % keyword\n",
    "+        return client.get(url)\n",
    " \n",
    "+    def test_permissions(self, user_client):\n",
    "         # when a user without admin permissions searches for users\n",
    "-        response = client.get('/users/search/token')\n",
    "+        response = self._get(user_client, 'token')\n",
    " \n",
    "         # then response code should be 403 (forbidden)\n",
    "-        self.assertEqual(response.status_code, 403)\n",
    "+        assert response.status_code == 403\n",
    " \n",
    "-    def test_response200(self):\n",
    "-        client = app.test_client()\n",
    "-        client.login('admin@example.com', '111111')\n",
    "+    def test_response200(self, admin_client, user_factory):\n",
    "+        # given 3 users with username contain token `user`\n",
    "+        # and 1 user without `user` in username\n",
    "+        user_factory(username='user1@example.com')\n",
    "+        user_factory(username='user2@example.com')\n",
    "+        user_factory(username='user3@example.com')\n",
    "+        user_factory(username='token1@example.com')\n",
    " \n",
    "         # when admin searches for users matching `user`\n",
    "-        response = client.get('/users/search/user')\n",
    "+        response = self._get(admin_client, 'user')\n",
    " \n",
    "         # then response should have code 200 and contain 3 users\n",
    "-        self.assertEqual(response.status_code, 200)\n",
    "-        self.assertEqual(\n",
    "-            len(json.loads(response.data)['users']),\n",
    "-            3\n",
    "-        )\n",
    "+        assert response.status_code == 200\n",
    "+        assert len(json.loads(response.data)['users']) == 3\n"
   ]
  },
  {
   "cell_type": "markdown",
   "metadata": {
    "slideshow": {
     "slide_type": "subslide"
    }
   },
   "source": [
    "# [pytest](http://pytest.org) от Holger Krekel и команды\n",
    "\n",
    "Guido van Rossum, [bugs.python.org](https://bugs.python.org/issue17908):\n",
    "> Not sure if the default test runner is something to extend at this point. Eveybody is using py.test anyway...\n",
    "\n",
    "[\"Нескучное тестирование с pytest\" - Роман Иманкулов](http://www.slideshare.net/imankulov/pytest-testing)"
   ]
  },
  {
   "cell_type": "markdown",
   "metadata": {
    "slideshow": {
     "slide_type": "subslide"
    }
   },
   "source": [
    "```\n",
    "$ cat test_package/test_module.py\n",
    "def test_function():\n",
    "    assert True\n",
    "\n",
    "\n",
    "class TestClass(object):\n",
    "    def test_method(self):\n",
    "        assert list(range(5)) == list(range(6))\n",
    "```\n",
    "```\n",
    "$ py.test -v\n",
    "======================= test session starts =======================\n",
    "collected 2 items \n",
    "\n",
    "test_package/test_module.py::test_function PASSED\n",
    "test_package/test_module.py::TestClass::test_method FAILED\n",
    "\n",
    "============================ FAILURES =============================\n",
    "______________________ TestClass.test_method ______________________\n",
    "\n",
    "self = <test_module.TestClass object at 0x7f6213ddceb8>\n",
    "\n",
    "    def test_method(self):\n",
    ">       assert list(range(5)) == list(range(6))\n",
    "E       assert [0, 1, 2, 3, 4] == [0, 1, 2, 3, 4, 5]\n",
    "E         Right contains more items, first extra item: 5\n",
    "E         Full diff:\n",
    "E         - [0, 1, 2, 3, 4]\n",
    "E         + [0, 1, 2, 3, 4, 5]\n",
    "E         ?               +++\n",
    "\n",
    "test_package/test_module.py:7: AssertionError\n",
    "=============== 1 failed, 1 passed in 0.01 seconds ================\n",
    "```"
   ]
  },
  {
   "cell_type": "markdown",
   "metadata": {
    "slideshow": {
     "slide_type": "subslide"
    }
   },
   "source": [
    "# pytest: явные зависимости"
   ]
  },
  {
   "cell_type": "code",
   "execution_count": null,
   "metadata": {
    "collapsed": true,
    "slideshow": {
     "slide_type": "fragment"
    }
   },
   "outputs": [],
   "source": [
    "@pytest.fixture\n",
    "def user_client():\n",
    "    return app.test_client()\n",
    "\n",
    "@pytest.fixture\n",
    "def admin_client(user_client, admin):\n",
    "    user_client.login(admin.username, admin.password)\n",
    "    return user_client\n",
    "\n",
    "class TestSearchUser(object):\n",
    "    # ...\n",
    "\n",
    "    def test_permissions(self, user_client):\n",
    "        # ...\n",
    "        user_client.get('/users/search/token')\n",
    "        # ...\n",
    "    \n",
    "    def test_response200(self, admin_client, user_factory):\n",
    "        user_factory(username='user1@example.com')\n",
    "        user_factory(username='user2@example.com')\n",
    "        user_factory(username='user3@example.com')\n",
    "        user_factory(username='token1@example.com')\n",
    "        # ...\n",
    "        admin_client.get('/users/search/user')\n",
    "        # ..."
   ]
  },
  {
   "cell_type": "markdown",
   "metadata": {
    "slideshow": {
     "slide_type": "subslide"
    }
   },
   "source": [
    "# assert и pdb"
   ]
  },
  {
   "cell_type": "markdown",
   "metadata": {
    "slideshow": {
     "slide_type": "fragment"
    }
   },
   "source": [
    "```\n",
    "$ py.test -v --pdb\n",
    "[...]\n",
    "test_package/test_module.py::TestClass::test_method FAILED\n",
    ">>>>>>>>>>>>>>>>>>>>>>>>>>>> traceback >>>>>>>>>>>>>>>>>>>>>>>>>>>>\n",
    "self = <test_module.TestClass object at 0x7f43cdf44898>\n",
    "\n",
    "    def test_method(self):\n",
    ">       assert list(range(5)) == list(range(6))\n",
    "E       assert [0, 1, 2, 3, 4] == [0, 1, 2, 3, 4, 5]\n",
    "E         Right contains more items, first extra item: 5\n",
    "E         Full diff:\n",
    "E         - [0, 1, 2, 3, 4]\n",
    "E         + [0, 1, 2, 3, 4, 5]\n",
    "E         ?               +++\n",
    "\n",
    "test_package/test_module.py:7: AssertionError\n",
    ">>>>>>>>>>>>>>>>>>>>>>>>>> entering PDB >>>>>>>>>>>>>>>>>>>>>>>>>>>\n",
    "> /tmp/xxx/test_package/test_module.py(7)test_method()\n",
    "-> assert list(range(5)) == list(range(6))\n",
    "(Pdb) \n",
    "```"
   ]
  },
  {
   "cell_type": "code",
   "execution_count": null,
   "metadata": {
    "collapsed": true,
    "slideshow": {
     "slide_type": "slide"
    }
   },
   "outputs": [],
   "source": [
    "class TestSearchUser(object):\n",
    "    def _get(self, client, keyword):\n",
    "        url = '/users/search/%s' % keyword\n",
    "        return client.get(url)\n",
    "\n",
    "    def test_permissions(self, user_client):\n",
    "        # when a user without admin permissions searches for users\n",
    "        response = self._get(user_client, 'token')\n",
    "\n",
    "        # then response code should be 403 (forbidden)\n",
    "        assert response.status_code == 403\n",
    "\n",
    "    def test_response200(self, admin_client, user_factory):\n",
    "        # given 3 users with username contain token `user`\n",
    "        # and 1 user without `user` in username\n",
    "        user_factory(username='user1@example.com')\n",
    "        user_factory(username='user2@example.com')\n",
    "        user_factory(username='user3@example.com')\n",
    "        user_factory(username='token1@example.com')\n",
    "\n",
    "        # when admin searches for users matching `user`\n",
    "        response = self._get(admin_client, 'user')\n",
    "\n",
    "        # then response should have code 200 and contain 3 users\n",
    "        assert response.status_code == 200\n",
    "        assert len(json.loads(response.data)['users']) == 3"
   ]
  },
  {
   "cell_type": "markdown",
   "metadata": {
    "slideshow": {
     "slide_type": "slide"
    }
   },
   "source": [
    "# Тесты для кода или код для тестов?\n"
   ]
  },
  {
   "cell_type": "code",
   "execution_count": null,
   "metadata": {
    "collapsed": true,
    "slideshow": {
     "slide_type": "fragment"
    }
   },
   "outputs": [],
   "source": [
    "def get_python_org():\n",
    "    response = requests.get('http://python.org')\n",
    "    if response.status_code == 200:\n",
    "        return response.content\n",
    "    return None"
   ]
  },
  {
   "cell_type": "code",
   "execution_count": null,
   "metadata": {
    "collapsed": true,
    "slideshow": {
     "slide_type": "fragment"
    }
   },
   "outputs": [],
   "source": [
    "def test_python_org_404():\n",
    "    response = requests.Response()\n",
    "    response.status_code = 404\n",
    "    with mock.patch('requests.get') as get_mock:\n",
    "        get_mock.return_value = response\n",
    "        \n",
    "    result = get_python_org()\n",
    "    \n",
    "    assert result is None"
   ]
  },
  {
   "cell_type": "code",
   "execution_count": null,
   "metadata": {
    "collapsed": true,
    "slideshow": {
     "slide_type": "fragment"
    }
   },
   "outputs": [],
   "source": [
    "from requests import get\n",
    "\n",
    "def get_python_org():\n",
    "    response = get('http://python.org')\n",
    "    if response.status_code == 200:\n",
    "        return response.content\n",
    "    return None"
   ]
  },
  {
   "cell_type": "code",
   "execution_count": null,
   "metadata": {
    "collapsed": true,
    "slideshow": {
     "slide_type": "slide"
    }
   },
   "outputs": [],
   "source": [
    "def get_python_org(requests=requests):\n",
    "    response = requests.get('http://python.org')\n",
    "    if response.status_code == 200:\n",
    "        return response.content\n",
    "    return None"
   ]
  },
  {
   "cell_type": "code",
   "execution_count": null,
   "metadata": {
    "collapsed": true,
    "slideshow": {
     "slide_type": "fragment"
    }
   },
   "outputs": [],
   "source": [
    "def test_python_org_404():\n",
    "    response = requests.Response()\n",
    "    response.status_code = 404\n",
    "    requests_mock = Mock(**{'get.return_value': response})\n",
    "        \n",
    "    result = get_python_org(requests=requests_mock)\n",
    "    \n",
    "    assert result is None"
   ]
  },
  {
   "cell_type": "markdown",
   "metadata": {
    "collapsed": true,
    "slideshow": {
     "slide_type": "slide"
    }
   },
   "source": [
    "# Окружение для тестов"
   ]
  },
  {
   "cell_type": "markdown",
   "metadata": {
    "slideshow": {
     "slide_type": "fragment"
    }
   },
   "source": [
    "* готовим внешние зависимости для тестов (сервисы, базы данных) снаружи тестов"
   ]
  },
  {
   "cell_type": "markdown",
   "metadata": {
    "slideshow": {
     "slide_type": "fragment"
    }
   },
   "source": [
    "* запихиваем наши тесты в Docker (или любые другие) контейнеры или виртуальные машины"
   ]
  },
  {
   "cell_type": "markdown",
   "metadata": {
    "slideshow": {
     "slide_type": "fragment"
    }
   },
   "source": [
    "* запускаем зависимости в виде Docker контейнеров изнутри тестов"
   ]
  },
  {
   "cell_type": "markdown",
   "metadata": {
    "slideshow": {
     "slide_type": "fragment"
    }
   },
   "source": [
    "## Все зависит от доступных инструментов"
   ]
  },
  {
   "cell_type": "code",
   "execution_count": null,
   "metadata": {
    "collapsed": true,
    "slideshow": {
     "slide_type": "slide"
    }
   },
   "outputs": [],
   "source": [
    "@pytest.yield_fixture(scope=\"session\")\n",
    "def postgres_port():\n",
    "    from docker import Client\n",
    "    docker_client = Client(base_url=DOCKER_URL)\n",
    "    docker_client.pull(PG_IMAGE)\n",
    "    # creating and starting container\n",
    "    container = docker_client.create_container(image=PG_IMAGE)\n",
    "    container_id = container['Id']\n",
    "    docker_client.start(container=container_id, port_bindings={'5432/tcp': 0})\n",
    "    cdata = docker_client.inspect_container(container_id)\n",
    "    # getting real value for randomized port (0 in port_bindings)\n",
    "    pg_port = int(cdata['NetworkSettings']['Ports']['5432/tcp'][0]['HostPort'])\n",
    "    # waiting for image to start\n",
    "    for _ in range(60):\n",
    "        logs = docker_client.logs(container_id).decode('utf-8')\n",
    "        if 'database system is ready to accept connections' in logs:\n",
    "            break\n",
    "        else:\n",
    "            time.sleep(1)\n",
    "    else:\n",
    "        docker_client.kill(container=container_id)\n",
    "        docker_client.remove_container(container=container_id, v=True)\n",
    "        raise Exception('Postgres Docker image didn\\'t start in 60 seconds')\n",
    "\n",
    "    # returning control back to py.test\n",
    "    yield pg_port\n",
    "\n",
    "    # stopping and removing container\n",
    "    docker_client.stop(container=container_id)\n",
    "    docker_client.remove_container(container=container_id, v=True)"
   ]
  },
  {
   "cell_type": "code",
   "execution_count": null,
   "metadata": {
    "collapsed": true,
    "slideshow": {
     "slide_type": "subslide"
    }
   },
   "outputs": [],
   "source": [
    "def test_select_1(postgres_port):\n",
    "    import psycopg2\n",
    "    conn = psycopg2.connect(host='127.0.0.1', port=postgres_port,\n",
    "                            user='postgres', password='',\n",
    "                            dbname='postgres')\n",
    "    cursor = conn.cursor()\n",
    "    cursor.execute(\"SELECT 1\")\n",
    "    cursor.fetchall()"
   ]
  },
  {
   "cell_type": "markdown",
   "metadata": {
    "collapsed": true,
    "slideshow": {
     "slide_type": "slide"
    }
   },
   "source": [
    "# Вместо вывода"
   ]
  },
  {
   "cell_type": "markdown",
   "metadata": {
    "slideshow": {
     "slide_type": "fragment"
    }
   },
   "source": [
    "## Интересные темы\n",
    "\n",
    "* Python как первый язык программирования\n",
    "* Python как новый язык программирования\n",
    "* Hypothesis - property based testing\n",
    "* asyncio\n",
    "* Wagtail CMS\n",
    "* Jupyter\n",
    "* Написание расширений на языке Rust\n",
    "* PySpark\n",
    "* PyStorm"
   ]
  },
  {
   "cell_type": "markdown",
   "metadata": {
    "slideshow": {
     "slide_type": "slide"
    }
   },
   "source": [
    "# Стас Рудаков\n",
    "<pre>mailto:stas@garage22.net</pre>\n",
    "[github.com/nott/talks/tree/master/testing](https://github.com/nott/talks/tree/master/testing)"
   ]
  }
 ],
 "metadata": {
  "celltoolbar": "Slideshow",
  "kernelspec": {
   "display_name": "Python 3",
   "language": "python",
   "name": "python3"
  },
  "language_info": {
   "codemirror_mode": {
    "name": "ipython",
    "version": 3
   },
   "file_extension": ".py",
   "mimetype": "text/x-python",
   "name": "python",
   "nbconvert_exporter": "python",
   "pygments_lexer": "ipython3",
   "version": "3.5.1"
  }
 },
 "nbformat": 4,
 "nbformat_minor": 0
}
